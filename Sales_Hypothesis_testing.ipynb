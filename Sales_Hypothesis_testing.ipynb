{
  "nbformat": 4,
  "nbformat_minor": 0,
  "metadata": {
    "colab": {
      "provenance": [],
      "authorship_tag": "ABX9TyPSyH03doeWWuG46ujzA9ZT",
      "include_colab_link": true
    },
    "kernelspec": {
      "name": "python3",
      "display_name": "Python 3"
    },
    "language_info": {
      "name": "python"
    }
  },
  "cells": [
    {
      "cell_type": "markdown",
      "metadata": {
        "id": "view-in-github",
        "colab_type": "text"
      },
      "source": [
        "<a href=\"https://colab.research.google.com/github/Deepthishanmugam/Sales_Forecasting_Complete/blob/main/Sales_Hypothesis_testing.ipynb\" target=\"_parent\"><img src=\"https://colab.research.google.com/assets/colab-badge.svg\" alt=\"Open In Colab\"/></a>"
      ]
    },
    {
      "cell_type": "markdown",
      "source": [
        "###**Importing necessary libraries & Installing Packages**"
      ],
      "metadata": {
        "id": "uUzcDI0NuvyF"
      }
    },
    {
      "cell_type": "code",
      "execution_count": 1,
      "metadata": {
        "id": "t0fEflNSVeBH"
      },
      "outputs": [],
      "source": [
        "import pandas as pd\n",
        "import matplotlib.pyplot as plt\n",
        "import seaborn as sns\n",
        "import numpy as np\n",
        "import plotly.express as px\n",
        "import plotly.graph_objects as go\n",
        "\n",
        "from plotly.offline import init_notebook_mode, iplot\n",
        "from scipy import stats\n",
        "from scipy.stats import levene"
      ]
    },
    {
      "cell_type": "markdown",
      "source": [
        "###**Downloading necessary.csv file**\n",
        " - Since there are two files we are downloading them separately"
      ],
      "metadata": {
        "id": "R-LUWkl0uzfT"
      }
    },
    {
      "cell_type": "code",
      "source": [
        "!gdown \"https://drive.google.com/drive/folders/1fBQ1PlWMho3kHF9qXrD0McZNfpJIcbrn\""
      ],
      "metadata": {
        "colab": {
          "base_uri": "https://localhost:8080/"
        },
        "id": "Zb-u6MxDWO33",
        "outputId": "4e1a4eb4-4168-4346-9fbd-5c72cf289cc9"
      },
      "execution_count": 2,
      "outputs": [
        {
          "output_type": "stream",
          "name": "stdout",
          "text": [
            "/usr/local/lib/python3.11/dist-packages/gdown/parse_url.py:48: UserWarning: You specified a Google Drive link that is not the correct link to download a file. You might want to try `--fuzzy` option or the following url: https://drive.google.com/uc?id=None\n",
            "  warnings.warn(\n",
            "Downloading...\n",
            "From: https://drive.google.com/drive/folders/1fBQ1PlWMho3kHF9qXrD0McZNfpJIcbrn\n",
            "To: /content/1fBQ1PlWMho3kHF9qXrD0McZNfpJIcbrn\n",
            "1.23MB [00:00, 17.5MB/s]\n"
          ]
        }
      ]
    },
    {
      "cell_type": "code",
      "source": [
        "with open('/content/1fBQ1PlWMho3kHF9qXrD0McZNfpJIcbrn', 'r') as file:\n",
        "    content = file.read()\n"
      ],
      "metadata": {
        "id": "40h3Ly9xVjSF"
      },
      "execution_count": 3,
      "outputs": []
    },
    {
      "cell_type": "code",
      "source": [
        "import gdown\n",
        "\n",
        "# Define the file IDs for the datasets you want to download\n",
        "file_ids = [\n",
        "    \"1ditFn_74EOsGnblf2nXr-Vx-I1mrCG42\",  # Replace with the actual file ID for dataset 1\n",
        "    \"1CclWDHsFLfCAuBbAv83_D5_XmeoRwWzl\"   # Replace with the actual file ID for dataset 2\n",
        "]\n",
        "\n",
        "# Download each file\n",
        "for file_id in file_ids:\n",
        "    url = f\"https://drive.google.com/uc?id={file_id}\"\n",
        "    gdown.download(url, quiet=False)\n"
      ],
      "metadata": {
        "colab": {
          "base_uri": "https://localhost:8080/"
        },
        "id": "XBoTfyryZbG4",
        "outputId": "b6df53f9-bc29-4019-8ceb-11b6bc8f3c0b"
      },
      "execution_count": 4,
      "outputs": [
        {
          "output_type": "stream",
          "name": "stderr",
          "text": [
            "Downloading...\n",
            "From: https://drive.google.com/uc?id=1ditFn_74EOsGnblf2nXr-Vx-I1mrCG42\n",
            "To: /content/TRAIN.csv\n",
            "100%|██████████| 9.33M/9.33M [00:00<00:00, 37.7MB/s]\n",
            "Downloading...\n",
            "From: https://drive.google.com/uc?id=1CclWDHsFLfCAuBbAv83_D5_XmeoRwWzl\n",
            "To: /content/TEST_FINAL.csv\n",
            "100%|██████████| 849k/849k [00:00<00:00, 22.2MB/s]\n"
          ]
        }
      ]
    },
    {
      "cell_type": "code",
      "source": [
        "df1 = pd.read_csv('TRAIN.csv')\n",
        "df1.head()"
      ],
      "metadata": {
        "colab": {
          "base_uri": "https://localhost:8080/",
          "height": 206
        },
        "id": "FZor-PxbZjVO",
        "outputId": "1e1829bb-a3d0-403a-f23e-2e6e4bb36f99"
      },
      "execution_count": 5,
      "outputs": [
        {
          "output_type": "execute_result",
          "data": {
            "text/plain": [
              "         ID  Store_id Store_Type Location_Type Region_Code        Date  \\\n",
              "0  T1000001         1         S1            L3          R1  2018-01-01   \n",
              "1  T1000002       253         S4            L2          R1  2018-01-01   \n",
              "2  T1000003       252         S3            L2          R1  2018-01-01   \n",
              "3  T1000004       251         S2            L3          R1  2018-01-01   \n",
              "4  T1000005       250         S2            L3          R4  2018-01-01   \n",
              "\n",
              "   Holiday Discount  #Order     Sales  \n",
              "0        1      Yes       9   7011.84  \n",
              "1        1      Yes      60  51789.12  \n",
              "2        1      Yes      42  36868.20  \n",
              "3        1      Yes      23  19715.16  \n",
              "4        1      Yes      62  45614.52  "
            ],
            "text/html": [
              "\n",
              "  <div id=\"df-8ea35d5a-e818-4a65-a469-be491387ab6b\" class=\"colab-df-container\">\n",
              "    <div>\n",
              "<style scoped>\n",
              "    .dataframe tbody tr th:only-of-type {\n",
              "        vertical-align: middle;\n",
              "    }\n",
              "\n",
              "    .dataframe tbody tr th {\n",
              "        vertical-align: top;\n",
              "    }\n",
              "\n",
              "    .dataframe thead th {\n",
              "        text-align: right;\n",
              "    }\n",
              "</style>\n",
              "<table border=\"1\" class=\"dataframe\">\n",
              "  <thead>\n",
              "    <tr style=\"text-align: right;\">\n",
              "      <th></th>\n",
              "      <th>ID</th>\n",
              "      <th>Store_id</th>\n",
              "      <th>Store_Type</th>\n",
              "      <th>Location_Type</th>\n",
              "      <th>Region_Code</th>\n",
              "      <th>Date</th>\n",
              "      <th>Holiday</th>\n",
              "      <th>Discount</th>\n",
              "      <th>#Order</th>\n",
              "      <th>Sales</th>\n",
              "    </tr>\n",
              "  </thead>\n",
              "  <tbody>\n",
              "    <tr>\n",
              "      <th>0</th>\n",
              "      <td>T1000001</td>\n",
              "      <td>1</td>\n",
              "      <td>S1</td>\n",
              "      <td>L3</td>\n",
              "      <td>R1</td>\n",
              "      <td>2018-01-01</td>\n",
              "      <td>1</td>\n",
              "      <td>Yes</td>\n",
              "      <td>9</td>\n",
              "      <td>7011.84</td>\n",
              "    </tr>\n",
              "    <tr>\n",
              "      <th>1</th>\n",
              "      <td>T1000002</td>\n",
              "      <td>253</td>\n",
              "      <td>S4</td>\n",
              "      <td>L2</td>\n",
              "      <td>R1</td>\n",
              "      <td>2018-01-01</td>\n",
              "      <td>1</td>\n",
              "      <td>Yes</td>\n",
              "      <td>60</td>\n",
              "      <td>51789.12</td>\n",
              "    </tr>\n",
              "    <tr>\n",
              "      <th>2</th>\n",
              "      <td>T1000003</td>\n",
              "      <td>252</td>\n",
              "      <td>S3</td>\n",
              "      <td>L2</td>\n",
              "      <td>R1</td>\n",
              "      <td>2018-01-01</td>\n",
              "      <td>1</td>\n",
              "      <td>Yes</td>\n",
              "      <td>42</td>\n",
              "      <td>36868.20</td>\n",
              "    </tr>\n",
              "    <tr>\n",
              "      <th>3</th>\n",
              "      <td>T1000004</td>\n",
              "      <td>251</td>\n",
              "      <td>S2</td>\n",
              "      <td>L3</td>\n",
              "      <td>R1</td>\n",
              "      <td>2018-01-01</td>\n",
              "      <td>1</td>\n",
              "      <td>Yes</td>\n",
              "      <td>23</td>\n",
              "      <td>19715.16</td>\n",
              "    </tr>\n",
              "    <tr>\n",
              "      <th>4</th>\n",
              "      <td>T1000005</td>\n",
              "      <td>250</td>\n",
              "      <td>S2</td>\n",
              "      <td>L3</td>\n",
              "      <td>R4</td>\n",
              "      <td>2018-01-01</td>\n",
              "      <td>1</td>\n",
              "      <td>Yes</td>\n",
              "      <td>62</td>\n",
              "      <td>45614.52</td>\n",
              "    </tr>\n",
              "  </tbody>\n",
              "</table>\n",
              "</div>\n",
              "    <div class=\"colab-df-buttons\">\n",
              "\n",
              "  <div class=\"colab-df-container\">\n",
              "    <button class=\"colab-df-convert\" onclick=\"convertToInteractive('df-8ea35d5a-e818-4a65-a469-be491387ab6b')\"\n",
              "            title=\"Convert this dataframe to an interactive table.\"\n",
              "            style=\"display:none;\">\n",
              "\n",
              "  <svg xmlns=\"http://www.w3.org/2000/svg\" height=\"24px\" viewBox=\"0 -960 960 960\">\n",
              "    <path d=\"M120-120v-720h720v720H120Zm60-500h600v-160H180v160Zm220 220h160v-160H400v160Zm0 220h160v-160H400v160ZM180-400h160v-160H180v160Zm440 0h160v-160H620v160ZM180-180h160v-160H180v160Zm440 0h160v-160H620v160Z\"/>\n",
              "  </svg>\n",
              "    </button>\n",
              "\n",
              "  <style>\n",
              "    .colab-df-container {\n",
              "      display:flex;\n",
              "      gap: 12px;\n",
              "    }\n",
              "\n",
              "    .colab-df-convert {\n",
              "      background-color: #E8F0FE;\n",
              "      border: none;\n",
              "      border-radius: 50%;\n",
              "      cursor: pointer;\n",
              "      display: none;\n",
              "      fill: #1967D2;\n",
              "      height: 32px;\n",
              "      padding: 0 0 0 0;\n",
              "      width: 32px;\n",
              "    }\n",
              "\n",
              "    .colab-df-convert:hover {\n",
              "      background-color: #E2EBFA;\n",
              "      box-shadow: 0px 1px 2px rgba(60, 64, 67, 0.3), 0px 1px 3px 1px rgba(60, 64, 67, 0.15);\n",
              "      fill: #174EA6;\n",
              "    }\n",
              "\n",
              "    .colab-df-buttons div {\n",
              "      margin-bottom: 4px;\n",
              "    }\n",
              "\n",
              "    [theme=dark] .colab-df-convert {\n",
              "      background-color: #3B4455;\n",
              "      fill: #D2E3FC;\n",
              "    }\n",
              "\n",
              "    [theme=dark] .colab-df-convert:hover {\n",
              "      background-color: #434B5C;\n",
              "      box-shadow: 0px 1px 3px 1px rgba(0, 0, 0, 0.15);\n",
              "      filter: drop-shadow(0px 1px 2px rgba(0, 0, 0, 0.3));\n",
              "      fill: #FFFFFF;\n",
              "    }\n",
              "  </style>\n",
              "\n",
              "    <script>\n",
              "      const buttonEl =\n",
              "        document.querySelector('#df-8ea35d5a-e818-4a65-a469-be491387ab6b button.colab-df-convert');\n",
              "      buttonEl.style.display =\n",
              "        google.colab.kernel.accessAllowed ? 'block' : 'none';\n",
              "\n",
              "      async function convertToInteractive(key) {\n",
              "        const element = document.querySelector('#df-8ea35d5a-e818-4a65-a469-be491387ab6b');\n",
              "        const dataTable =\n",
              "          await google.colab.kernel.invokeFunction('convertToInteractive',\n",
              "                                                    [key], {});\n",
              "        if (!dataTable) return;\n",
              "\n",
              "        const docLinkHtml = 'Like what you see? Visit the ' +\n",
              "          '<a target=\"_blank\" href=https://colab.research.google.com/notebooks/data_table.ipynb>data table notebook</a>'\n",
              "          + ' to learn more about interactive tables.';\n",
              "        element.innerHTML = '';\n",
              "        dataTable['output_type'] = 'display_data';\n",
              "        await google.colab.output.renderOutput(dataTable, element);\n",
              "        const docLink = document.createElement('div');\n",
              "        docLink.innerHTML = docLinkHtml;\n",
              "        element.appendChild(docLink);\n",
              "      }\n",
              "    </script>\n",
              "  </div>\n",
              "\n",
              "\n",
              "<div id=\"df-5db5f133-9a4f-461d-85bb-e2bd0f9e3859\">\n",
              "  <button class=\"colab-df-quickchart\" onclick=\"quickchart('df-5db5f133-9a4f-461d-85bb-e2bd0f9e3859')\"\n",
              "            title=\"Suggest charts\"\n",
              "            style=\"display:none;\">\n",
              "\n",
              "<svg xmlns=\"http://www.w3.org/2000/svg\" height=\"24px\"viewBox=\"0 0 24 24\"\n",
              "     width=\"24px\">\n",
              "    <g>\n",
              "        <path d=\"M19 3H5c-1.1 0-2 .9-2 2v14c0 1.1.9 2 2 2h14c1.1 0 2-.9 2-2V5c0-1.1-.9-2-2-2zM9 17H7v-7h2v7zm4 0h-2V7h2v10zm4 0h-2v-4h2v4z\"/>\n",
              "    </g>\n",
              "</svg>\n",
              "  </button>\n",
              "\n",
              "<style>\n",
              "  .colab-df-quickchart {\n",
              "      --bg-color: #E8F0FE;\n",
              "      --fill-color: #1967D2;\n",
              "      --hover-bg-color: #E2EBFA;\n",
              "      --hover-fill-color: #174EA6;\n",
              "      --disabled-fill-color: #AAA;\n",
              "      --disabled-bg-color: #DDD;\n",
              "  }\n",
              "\n",
              "  [theme=dark] .colab-df-quickchart {\n",
              "      --bg-color: #3B4455;\n",
              "      --fill-color: #D2E3FC;\n",
              "      --hover-bg-color: #434B5C;\n",
              "      --hover-fill-color: #FFFFFF;\n",
              "      --disabled-bg-color: #3B4455;\n",
              "      --disabled-fill-color: #666;\n",
              "  }\n",
              "\n",
              "  .colab-df-quickchart {\n",
              "    background-color: var(--bg-color);\n",
              "    border: none;\n",
              "    border-radius: 50%;\n",
              "    cursor: pointer;\n",
              "    display: none;\n",
              "    fill: var(--fill-color);\n",
              "    height: 32px;\n",
              "    padding: 0;\n",
              "    width: 32px;\n",
              "  }\n",
              "\n",
              "  .colab-df-quickchart:hover {\n",
              "    background-color: var(--hover-bg-color);\n",
              "    box-shadow: 0 1px 2px rgba(60, 64, 67, 0.3), 0 1px 3px 1px rgba(60, 64, 67, 0.15);\n",
              "    fill: var(--button-hover-fill-color);\n",
              "  }\n",
              "\n",
              "  .colab-df-quickchart-complete:disabled,\n",
              "  .colab-df-quickchart-complete:disabled:hover {\n",
              "    background-color: var(--disabled-bg-color);\n",
              "    fill: var(--disabled-fill-color);\n",
              "    box-shadow: none;\n",
              "  }\n",
              "\n",
              "  .colab-df-spinner {\n",
              "    border: 2px solid var(--fill-color);\n",
              "    border-color: transparent;\n",
              "    border-bottom-color: var(--fill-color);\n",
              "    animation:\n",
              "      spin 1s steps(1) infinite;\n",
              "  }\n",
              "\n",
              "  @keyframes spin {\n",
              "    0% {\n",
              "      border-color: transparent;\n",
              "      border-bottom-color: var(--fill-color);\n",
              "      border-left-color: var(--fill-color);\n",
              "    }\n",
              "    20% {\n",
              "      border-color: transparent;\n",
              "      border-left-color: var(--fill-color);\n",
              "      border-top-color: var(--fill-color);\n",
              "    }\n",
              "    30% {\n",
              "      border-color: transparent;\n",
              "      border-left-color: var(--fill-color);\n",
              "      border-top-color: var(--fill-color);\n",
              "      border-right-color: var(--fill-color);\n",
              "    }\n",
              "    40% {\n",
              "      border-color: transparent;\n",
              "      border-right-color: var(--fill-color);\n",
              "      border-top-color: var(--fill-color);\n",
              "    }\n",
              "    60% {\n",
              "      border-color: transparent;\n",
              "      border-right-color: var(--fill-color);\n",
              "    }\n",
              "    80% {\n",
              "      border-color: transparent;\n",
              "      border-right-color: var(--fill-color);\n",
              "      border-bottom-color: var(--fill-color);\n",
              "    }\n",
              "    90% {\n",
              "      border-color: transparent;\n",
              "      border-bottom-color: var(--fill-color);\n",
              "    }\n",
              "  }\n",
              "</style>\n",
              "\n",
              "  <script>\n",
              "    async function quickchart(key) {\n",
              "      const quickchartButtonEl =\n",
              "        document.querySelector('#' + key + ' button');\n",
              "      quickchartButtonEl.disabled = true;  // To prevent multiple clicks.\n",
              "      quickchartButtonEl.classList.add('colab-df-spinner');\n",
              "      try {\n",
              "        const charts = await google.colab.kernel.invokeFunction(\n",
              "            'suggestCharts', [key], {});\n",
              "      } catch (error) {\n",
              "        console.error('Error during call to suggestCharts:', error);\n",
              "      }\n",
              "      quickchartButtonEl.classList.remove('colab-df-spinner');\n",
              "      quickchartButtonEl.classList.add('colab-df-quickchart-complete');\n",
              "    }\n",
              "    (() => {\n",
              "      let quickchartButtonEl =\n",
              "        document.querySelector('#df-5db5f133-9a4f-461d-85bb-e2bd0f9e3859 button');\n",
              "      quickchartButtonEl.style.display =\n",
              "        google.colab.kernel.accessAllowed ? 'block' : 'none';\n",
              "    })();\n",
              "  </script>\n",
              "</div>\n",
              "\n",
              "    </div>\n",
              "  </div>\n"
            ],
            "application/vnd.google.colaboratory.intrinsic+json": {
              "type": "dataframe",
              "variable_name": "df1"
            }
          },
          "metadata": {},
          "execution_count": 5
        }
      ]
    },
    {
      "cell_type": "code",
      "source": [
        "df2 = pd.read_csv('TEST_FINAL.csv')\n",
        "df2.head()"
      ],
      "metadata": {
        "colab": {
          "base_uri": "https://localhost:8080/",
          "height": 206
        },
        "id": "Nmgsy4mhZ8Tr",
        "outputId": "485f8620-5a5b-46a1-d7a9-82572132c702"
      },
      "execution_count": 6,
      "outputs": [
        {
          "output_type": "execute_result",
          "data": {
            "text/plain": [
              "         ID  Store_id Store_Type Location_Type Region_Code        Date  \\\n",
              "0  T1188341       171         S4            L2          R3  2019-06-01   \n",
              "1  T1188342       172         S1            L1          R1  2019-06-01   \n",
              "2  T1188343       173         S4            L2          R1  2019-06-01   \n",
              "3  T1188344       174         S1            L1          R4  2019-06-01   \n",
              "4  T1188345       170         S1            L1          R2  2019-06-01   \n",
              "\n",
              "   Holiday Discount  \n",
              "0        0       No  \n",
              "1        0       No  \n",
              "2        0       No  \n",
              "3        0       No  \n",
              "4        0       No  "
            ],
            "text/html": [
              "\n",
              "  <div id=\"df-4066afcf-016c-4d53-8f50-dbf9317d6814\" class=\"colab-df-container\">\n",
              "    <div>\n",
              "<style scoped>\n",
              "    .dataframe tbody tr th:only-of-type {\n",
              "        vertical-align: middle;\n",
              "    }\n",
              "\n",
              "    .dataframe tbody tr th {\n",
              "        vertical-align: top;\n",
              "    }\n",
              "\n",
              "    .dataframe thead th {\n",
              "        text-align: right;\n",
              "    }\n",
              "</style>\n",
              "<table border=\"1\" class=\"dataframe\">\n",
              "  <thead>\n",
              "    <tr style=\"text-align: right;\">\n",
              "      <th></th>\n",
              "      <th>ID</th>\n",
              "      <th>Store_id</th>\n",
              "      <th>Store_Type</th>\n",
              "      <th>Location_Type</th>\n",
              "      <th>Region_Code</th>\n",
              "      <th>Date</th>\n",
              "      <th>Holiday</th>\n",
              "      <th>Discount</th>\n",
              "    </tr>\n",
              "  </thead>\n",
              "  <tbody>\n",
              "    <tr>\n",
              "      <th>0</th>\n",
              "      <td>T1188341</td>\n",
              "      <td>171</td>\n",
              "      <td>S4</td>\n",
              "      <td>L2</td>\n",
              "      <td>R3</td>\n",
              "      <td>2019-06-01</td>\n",
              "      <td>0</td>\n",
              "      <td>No</td>\n",
              "    </tr>\n",
              "    <tr>\n",
              "      <th>1</th>\n",
              "      <td>T1188342</td>\n",
              "      <td>172</td>\n",
              "      <td>S1</td>\n",
              "      <td>L1</td>\n",
              "      <td>R1</td>\n",
              "      <td>2019-06-01</td>\n",
              "      <td>0</td>\n",
              "      <td>No</td>\n",
              "    </tr>\n",
              "    <tr>\n",
              "      <th>2</th>\n",
              "      <td>T1188343</td>\n",
              "      <td>173</td>\n",
              "      <td>S4</td>\n",
              "      <td>L2</td>\n",
              "      <td>R1</td>\n",
              "      <td>2019-06-01</td>\n",
              "      <td>0</td>\n",
              "      <td>No</td>\n",
              "    </tr>\n",
              "    <tr>\n",
              "      <th>3</th>\n",
              "      <td>T1188344</td>\n",
              "      <td>174</td>\n",
              "      <td>S1</td>\n",
              "      <td>L1</td>\n",
              "      <td>R4</td>\n",
              "      <td>2019-06-01</td>\n",
              "      <td>0</td>\n",
              "      <td>No</td>\n",
              "    </tr>\n",
              "    <tr>\n",
              "      <th>4</th>\n",
              "      <td>T1188345</td>\n",
              "      <td>170</td>\n",
              "      <td>S1</td>\n",
              "      <td>L1</td>\n",
              "      <td>R2</td>\n",
              "      <td>2019-06-01</td>\n",
              "      <td>0</td>\n",
              "      <td>No</td>\n",
              "    </tr>\n",
              "  </tbody>\n",
              "</table>\n",
              "</div>\n",
              "    <div class=\"colab-df-buttons\">\n",
              "\n",
              "  <div class=\"colab-df-container\">\n",
              "    <button class=\"colab-df-convert\" onclick=\"convertToInteractive('df-4066afcf-016c-4d53-8f50-dbf9317d6814')\"\n",
              "            title=\"Convert this dataframe to an interactive table.\"\n",
              "            style=\"display:none;\">\n",
              "\n",
              "  <svg xmlns=\"http://www.w3.org/2000/svg\" height=\"24px\" viewBox=\"0 -960 960 960\">\n",
              "    <path d=\"M120-120v-720h720v720H120Zm60-500h600v-160H180v160Zm220 220h160v-160H400v160Zm0 220h160v-160H400v160ZM180-400h160v-160H180v160Zm440 0h160v-160H620v160ZM180-180h160v-160H180v160Zm440 0h160v-160H620v160Z\"/>\n",
              "  </svg>\n",
              "    </button>\n",
              "\n",
              "  <style>\n",
              "    .colab-df-container {\n",
              "      display:flex;\n",
              "      gap: 12px;\n",
              "    }\n",
              "\n",
              "    .colab-df-convert {\n",
              "      background-color: #E8F0FE;\n",
              "      border: none;\n",
              "      border-radius: 50%;\n",
              "      cursor: pointer;\n",
              "      display: none;\n",
              "      fill: #1967D2;\n",
              "      height: 32px;\n",
              "      padding: 0 0 0 0;\n",
              "      width: 32px;\n",
              "    }\n",
              "\n",
              "    .colab-df-convert:hover {\n",
              "      background-color: #E2EBFA;\n",
              "      box-shadow: 0px 1px 2px rgba(60, 64, 67, 0.3), 0px 1px 3px 1px rgba(60, 64, 67, 0.15);\n",
              "      fill: #174EA6;\n",
              "    }\n",
              "\n",
              "    .colab-df-buttons div {\n",
              "      margin-bottom: 4px;\n",
              "    }\n",
              "\n",
              "    [theme=dark] .colab-df-convert {\n",
              "      background-color: #3B4455;\n",
              "      fill: #D2E3FC;\n",
              "    }\n",
              "\n",
              "    [theme=dark] .colab-df-convert:hover {\n",
              "      background-color: #434B5C;\n",
              "      box-shadow: 0px 1px 3px 1px rgba(0, 0, 0, 0.15);\n",
              "      filter: drop-shadow(0px 1px 2px rgba(0, 0, 0, 0.3));\n",
              "      fill: #FFFFFF;\n",
              "    }\n",
              "  </style>\n",
              "\n",
              "    <script>\n",
              "      const buttonEl =\n",
              "        document.querySelector('#df-4066afcf-016c-4d53-8f50-dbf9317d6814 button.colab-df-convert');\n",
              "      buttonEl.style.display =\n",
              "        google.colab.kernel.accessAllowed ? 'block' : 'none';\n",
              "\n",
              "      async function convertToInteractive(key) {\n",
              "        const element = document.querySelector('#df-4066afcf-016c-4d53-8f50-dbf9317d6814');\n",
              "        const dataTable =\n",
              "          await google.colab.kernel.invokeFunction('convertToInteractive',\n",
              "                                                    [key], {});\n",
              "        if (!dataTable) return;\n",
              "\n",
              "        const docLinkHtml = 'Like what you see? Visit the ' +\n",
              "          '<a target=\"_blank\" href=https://colab.research.google.com/notebooks/data_table.ipynb>data table notebook</a>'\n",
              "          + ' to learn more about interactive tables.';\n",
              "        element.innerHTML = '';\n",
              "        dataTable['output_type'] = 'display_data';\n",
              "        await google.colab.output.renderOutput(dataTable, element);\n",
              "        const docLink = document.createElement('div');\n",
              "        docLink.innerHTML = docLinkHtml;\n",
              "        element.appendChild(docLink);\n",
              "      }\n",
              "    </script>\n",
              "  </div>\n",
              "\n",
              "\n",
              "<div id=\"df-2dc4ac38-4341-4ec7-b7c5-ff6f0855ee15\">\n",
              "  <button class=\"colab-df-quickchart\" onclick=\"quickchart('df-2dc4ac38-4341-4ec7-b7c5-ff6f0855ee15')\"\n",
              "            title=\"Suggest charts\"\n",
              "            style=\"display:none;\">\n",
              "\n",
              "<svg xmlns=\"http://www.w3.org/2000/svg\" height=\"24px\"viewBox=\"0 0 24 24\"\n",
              "     width=\"24px\">\n",
              "    <g>\n",
              "        <path d=\"M19 3H5c-1.1 0-2 .9-2 2v14c0 1.1.9 2 2 2h14c1.1 0 2-.9 2-2V5c0-1.1-.9-2-2-2zM9 17H7v-7h2v7zm4 0h-2V7h2v10zm4 0h-2v-4h2v4z\"/>\n",
              "    </g>\n",
              "</svg>\n",
              "  </button>\n",
              "\n",
              "<style>\n",
              "  .colab-df-quickchart {\n",
              "      --bg-color: #E8F0FE;\n",
              "      --fill-color: #1967D2;\n",
              "      --hover-bg-color: #E2EBFA;\n",
              "      --hover-fill-color: #174EA6;\n",
              "      --disabled-fill-color: #AAA;\n",
              "      --disabled-bg-color: #DDD;\n",
              "  }\n",
              "\n",
              "  [theme=dark] .colab-df-quickchart {\n",
              "      --bg-color: #3B4455;\n",
              "      --fill-color: #D2E3FC;\n",
              "      --hover-bg-color: #434B5C;\n",
              "      --hover-fill-color: #FFFFFF;\n",
              "      --disabled-bg-color: #3B4455;\n",
              "      --disabled-fill-color: #666;\n",
              "  }\n",
              "\n",
              "  .colab-df-quickchart {\n",
              "    background-color: var(--bg-color);\n",
              "    border: none;\n",
              "    border-radius: 50%;\n",
              "    cursor: pointer;\n",
              "    display: none;\n",
              "    fill: var(--fill-color);\n",
              "    height: 32px;\n",
              "    padding: 0;\n",
              "    width: 32px;\n",
              "  }\n",
              "\n",
              "  .colab-df-quickchart:hover {\n",
              "    background-color: var(--hover-bg-color);\n",
              "    box-shadow: 0 1px 2px rgba(60, 64, 67, 0.3), 0 1px 3px 1px rgba(60, 64, 67, 0.15);\n",
              "    fill: var(--button-hover-fill-color);\n",
              "  }\n",
              "\n",
              "  .colab-df-quickchart-complete:disabled,\n",
              "  .colab-df-quickchart-complete:disabled:hover {\n",
              "    background-color: var(--disabled-bg-color);\n",
              "    fill: var(--disabled-fill-color);\n",
              "    box-shadow: none;\n",
              "  }\n",
              "\n",
              "  .colab-df-spinner {\n",
              "    border: 2px solid var(--fill-color);\n",
              "    border-color: transparent;\n",
              "    border-bottom-color: var(--fill-color);\n",
              "    animation:\n",
              "      spin 1s steps(1) infinite;\n",
              "  }\n",
              "\n",
              "  @keyframes spin {\n",
              "    0% {\n",
              "      border-color: transparent;\n",
              "      border-bottom-color: var(--fill-color);\n",
              "      border-left-color: var(--fill-color);\n",
              "    }\n",
              "    20% {\n",
              "      border-color: transparent;\n",
              "      border-left-color: var(--fill-color);\n",
              "      border-top-color: var(--fill-color);\n",
              "    }\n",
              "    30% {\n",
              "      border-color: transparent;\n",
              "      border-left-color: var(--fill-color);\n",
              "      border-top-color: var(--fill-color);\n",
              "      border-right-color: var(--fill-color);\n",
              "    }\n",
              "    40% {\n",
              "      border-color: transparent;\n",
              "      border-right-color: var(--fill-color);\n",
              "      border-top-color: var(--fill-color);\n",
              "    }\n",
              "    60% {\n",
              "      border-color: transparent;\n",
              "      border-right-color: var(--fill-color);\n",
              "    }\n",
              "    80% {\n",
              "      border-color: transparent;\n",
              "      border-right-color: var(--fill-color);\n",
              "      border-bottom-color: var(--fill-color);\n",
              "    }\n",
              "    90% {\n",
              "      border-color: transparent;\n",
              "      border-bottom-color: var(--fill-color);\n",
              "    }\n",
              "  }\n",
              "</style>\n",
              "\n",
              "  <script>\n",
              "    async function quickchart(key) {\n",
              "      const quickchartButtonEl =\n",
              "        document.querySelector('#' + key + ' button');\n",
              "      quickchartButtonEl.disabled = true;  // To prevent multiple clicks.\n",
              "      quickchartButtonEl.classList.add('colab-df-spinner');\n",
              "      try {\n",
              "        const charts = await google.colab.kernel.invokeFunction(\n",
              "            'suggestCharts', [key], {});\n",
              "      } catch (error) {\n",
              "        console.error('Error during call to suggestCharts:', error);\n",
              "      }\n",
              "      quickchartButtonEl.classList.remove('colab-df-spinner');\n",
              "      quickchartButtonEl.classList.add('colab-df-quickchart-complete');\n",
              "    }\n",
              "    (() => {\n",
              "      let quickchartButtonEl =\n",
              "        document.querySelector('#df-2dc4ac38-4341-4ec7-b7c5-ff6f0855ee15 button');\n",
              "      quickchartButtonEl.style.display =\n",
              "        google.colab.kernel.accessAllowed ? 'block' : 'none';\n",
              "    })();\n",
              "  </script>\n",
              "</div>\n",
              "\n",
              "    </div>\n",
              "  </div>\n"
            ],
            "application/vnd.google.colaboratory.intrinsic+json": {
              "type": "dataframe",
              "variable_name": "df2",
              "summary": "{\n  \"name\": \"df2\",\n  \"rows\": 22265,\n  \"fields\": [\n    {\n      \"column\": \"ID\",\n      \"properties\": {\n        \"dtype\": \"string\",\n        \"num_unique_values\": 22265,\n        \"samples\": [\n          \"T1190426\",\n          \"T1195450\",\n          \"T1195260\"\n        ],\n        \"semantic_type\": \"\",\n        \"description\": \"\"\n      }\n    },\n    {\n      \"column\": \"Store_id\",\n      \"properties\": {\n        \"dtype\": \"number\",\n        \"std\": 105,\n        \"min\": 1,\n        \"max\": 365,\n        \"num_unique_values\": 365,\n        \"samples\": [\n          111,\n          145,\n          183\n        ],\n        \"semantic_type\": \"\",\n        \"description\": \"\"\n      }\n    },\n    {\n      \"column\": \"Store_Type\",\n      \"properties\": {\n        \"dtype\": \"category\",\n        \"num_unique_values\": 4,\n        \"samples\": [\n          \"S1\",\n          \"S2\",\n          \"S4\"\n        ],\n        \"semantic_type\": \"\",\n        \"description\": \"\"\n      }\n    },\n    {\n      \"column\": \"Location_Type\",\n      \"properties\": {\n        \"dtype\": \"category\",\n        \"num_unique_values\": 5,\n        \"samples\": [\n          \"L1\",\n          \"L4\",\n          \"L3\"\n        ],\n        \"semantic_type\": \"\",\n        \"description\": \"\"\n      }\n    },\n    {\n      \"column\": \"Region_Code\",\n      \"properties\": {\n        \"dtype\": \"category\",\n        \"num_unique_values\": 4,\n        \"samples\": [\n          \"R1\",\n          \"R2\",\n          \"R3\"\n        ],\n        \"semantic_type\": \"\",\n        \"description\": \"\"\n      }\n    },\n    {\n      \"column\": \"Date\",\n      \"properties\": {\n        \"dtype\": \"object\",\n        \"num_unique_values\": 61,\n        \"samples\": [\n          \"2019-06-01\",\n          \"2019-06-06\",\n          \"2019-07-17\"\n        ],\n        \"semantic_type\": \"\",\n        \"description\": \"\"\n      }\n    },\n    {\n      \"column\": \"Holiday\",\n      \"properties\": {\n        \"dtype\": \"number\",\n        \"std\": 0,\n        \"min\": 0,\n        \"max\": 1,\n        \"num_unique_values\": 2,\n        \"samples\": [\n          1,\n          0\n        ],\n        \"semantic_type\": \"\",\n        \"description\": \"\"\n      }\n    },\n    {\n      \"column\": \"Discount\",\n      \"properties\": {\n        \"dtype\": \"category\",\n        \"num_unique_values\": 2,\n        \"samples\": [\n          \"Yes\",\n          \"No\"\n        ],\n        \"semantic_type\": \"\",\n        \"description\": \"\"\n      }\n    }\n  ]\n}"
            }
          },
          "metadata": {},
          "execution_count": 6
        }
      ]
    },
    {
      "cell_type": "code",
      "source": [
        "# Assigning df1 to df\n",
        "df = df1"
      ],
      "metadata": {
        "id": "XtGpsOVWXoLn"
      },
      "execution_count": 7,
      "outputs": []
    },
    {
      "cell_type": "markdown",
      "source": [
        "#**Suggestions for Hypothesis Testing**\n",
        "\n",
        "Hypothesis testing is a statistical method mainly used to make inferences by following below steps,\n",
        " - Hypothesis stating\n",
        " - Choosing Significance Level (α)\n",
        " - Selecting appropriate testing\n",
        " - Test Statistic computation\n",
        " - P-value identification\n",
        " - Decision making\n",
        " - Result Interpretation"
      ],
      "metadata": {
        "id": "qArYMm8lRID1"
      }
    },
    {
      "cell_type": "markdown",
      "source": [
        ">###  ***Impact of Discounts on Sales***\n",
        "\n",
        "As Discounts are often used to attract customers, & encourage more purchases and sometimes used to clear inventory. In addition to above discounts are provided to encourage below factors such as,\n",
        " - Increased Demand Due to Lower Prices\n",
        " - Customer Perception and Behavior\n",
        " - Attracting New Customers and Retaining Existing Ones\n",
        " - Competitive Advantages\n",
        " - Impact on Profitability\n",
        "\n",
        "**Why t-test?**\n",
        "\n",
        "As it allows to determine if there is a statistically significant difference in the sales before and after a discount is applied,\n",
        "\n",
        "**Assumptions of the T-test:**\n",
        "\n",
        " - ###### ***Sample Groups :***\n",
        "      1. Sales before discount\n",
        "      2. Sales after discount\n",
        "\n",
        " - ###### ***Normality:***\n",
        "Data is normally distributed\n",
        "\n",
        "- ###### ***Equal variance:***\n",
        "Group variances are similar\n",
        "\n",
        "- ###### ***Form Hypotheses:***\n",
        "\n",
        "        Null Hypothesis (H₀):  The discount does not impact sales\n",
        "\n",
        "        Alternative Hypothesis (H₁): The discount impacts sales\n"
      ],
      "metadata": {
        "id": "S9-CW4B5RSEj"
      }
    },
    {
      "cell_type": "code",
      "source": [
        "# Descriptive Statistics of Sales based on Discount\n",
        "sales_discount_group = df.groupby('Discount')['Sales'].describe()\n",
        "print(\"Descriptive Statistics of Sales Based on Discount:\")\n",
        "print(sales_discount_group)"
      ],
      "metadata": {
        "colab": {
          "base_uri": "https://localhost:8080/"
        },
        "id": "eaqdwvAIc3gw",
        "outputId": "b9a3dfe5-68bc-487d-bdc1-2edf330d314c"
      },
      "execution_count": 8,
      "outputs": [
        {
          "output_type": "stream",
          "name": "stdout",
          "text": [
            "Descriptive Statistics of Sales Based on Discount:\n",
            "             count          mean           std      min       25%      50%  \\\n",
            "Discount                                                                     \n",
            "No        104051.0  37403.679678  16039.555183     0.00  27069.00  34791.0   \n",
            "Yes        84289.0  49426.497620  19071.656642  1969.14  36625.35  46242.0   \n",
            "\n",
            "              75%        max  \n",
            "Discount                      \n",
            "No        44968.5  197840.61  \n",
            "Yes       58869.0  247215.00  \n"
          ]
        }
      ]
    },
    {
      "cell_type": "code",
      "source": [
        "# Sales Distribution based on Discount\n",
        "plt.figure(figsize=(6, 5))\n",
        "sns.boxplot(data=df, x='Discount', y='Sales', palette='Set2')\n",
        "plt.title('Sales Distribution Based on Discount')\n",
        "plt.xlabel('Discount')\n",
        "plt.ylabel('Sales')\n",
        "plt.show()"
      ],
      "metadata": {
        "colab": {
          "base_uri": "https://localhost:8080/",
          "height": 608
        },
        "id": "YyzbGKYJdh7M",
        "outputId": "faffa402-c53f-4d25-8fa5-879a2c8a3e94"
      },
      "execution_count": 9,
      "outputs": [
        {
          "output_type": "stream",
          "name": "stderr",
          "text": [
            "<ipython-input-9-5c473e09b1da>:3: FutureWarning:\n",
            "\n",
            "\n",
            "\n",
            "Passing `palette` without assigning `hue` is deprecated and will be removed in v0.14.0. Assign the `x` variable to `hue` and set `legend=False` for the same effect.\n",
            "\n",
            "\n"
          ]
        },
        {
          "output_type": "display_data",
          "data": {
            "text/plain": [
              "<Figure size 600x500 with 1 Axes>"
            ],
            "image/png": "[encoded data removed]"
          },
          "metadata": {}
        }
      ]
    },
    {
      "cell_type": "code",
      "source": [
        "# T-Test\n",
        "# Null hypothesis (H0): Discount doesnot impact sales\n",
        "# Alternative hypothesis (H1):  Discount impact sales\n",
        "discount_yes = df[df['Discount'] == 'Yes']['Sales']\n",
        "discount_no = df[df['Discount'] == 'No']['Sales']\n",
        "t_stat, p_value = stats.ttest_ind(discount_yes, discount_no)\n",
        "print(\"\\nT-Test Results:\")\n",
        "print(f\"T-statistic: {t_stat:.3f}\")\n",
        "print(f\"P-value: {p_value:.3f}\")\n",
        "\n",
        "# Interpretation\n",
        "if p_value < 0.05:\n",
        "    print(\"Reject the null hypothesis: Discount impact sales\")\n",
        "else:\n",
        "    print(\"Fail to reject the null hypothesis: Discount doesnot impact sales\")\n"
      ],
      "metadata": {
        "colab": {
          "base_uri": "https://localhost:8080/"
        },
        "id": "tYUuU1xNYMnj",
        "outputId": "c261be66-f863-43fc-cbd9-cbb205437517"
      },
      "execution_count": 10,
      "outputs": [
        {
          "output_type": "stream",
          "name": "stdout",
          "text": [
            "\n",
            "T-Test Results:\n",
            "T-statistic: 148.579\n",
            "P-value: 0.000\n",
            "Reject the null hypothesis: Discount impact sales\n"
          ]
        }
      ]
    },
    {
      "cell_type": "markdown",
      "source": [
        ">###  ***Effect of Holidays on Sales***\n",
        "\n",
        "Similar to Discounts we can further anlayse if Holidays impact sales\n",
        " - Time availability of customer for purchase\n",
        " - Shopping mode\n",
        " - Possibility of increased visits\n",
        "\n",
        "**Why t-test?**\n",
        "\n",
        "As it allows to determine if there is a statistically significant difference in the sales before and after a Holidays,\n",
        "\n",
        "**Assumptions of the T-test:**\n",
        "\n",
        "- ###### ***Sample Groups :***\n",
        " 1. Sales during holidays\n",
        " 2. Sales during non-holidays\n",
        "\n",
        "- ###### ***Normality:***\n",
        "Data is normally distributed\n",
        "\n",
        "- ###### ***Equal variance:***\n",
        "Group variances are similar\n",
        "\n",
        "- ###### ***Form Hypotheses:***\n",
        "\n",
        "       Null Hypothesis (H₀):  Holidays does not impact sales\n",
        "\n",
        "       Alternative Hypothesis (H₁): Holidays impacts sales\n"
      ],
      "metadata": {
        "id": "Je2MV8GaYsuI"
      }
    },
    {
      "cell_type": "code",
      "source": [
        "# Descriptive Statistics of Sales based on Holiday\n",
        "sales_holiday_group = df.groupby('Holiday')['Sales'].describe()\n",
        "print(\"Descriptive Statistics of Sales Based on Holiday:\")\n",
        "print(sales_holiday_group)"
      ],
      "metadata": {
        "colab": {
          "base_uri": "https://localhost:8080/"
        },
        "id": "s_LRBflmgSmG",
        "outputId": "7099a346-f1c8-43c3-df29-2c083295cffa"
      },
      "execution_count": 11,
      "outputs": [
        {
          "output_type": "stream",
          "name": "stdout",
          "text": [
            "Descriptive Statistics of Sales Based on Holiday:\n",
            "            count          mean           std  min       25%       50%  \\\n",
            "Holiday                                                                  \n",
            "0        163520.0  43897.288998  18143.426019  0.0  31389.00  40530.00   \n",
            "1         24820.0  35451.878930  18822.332593  0.0  23778.57  33417.54   \n",
            "\n",
            "               75%        max  \n",
            "Holiday                        \n",
            "0        52761.000  247215.00  \n",
            "1        45247.125  197840.61  \n"
          ]
        }
      ]
    },
    {
      "cell_type": "code",
      "source": [
        "# Sales vs Holidays\n",
        "plt.figure(figsize=(6, 5))\n",
        "sns.boxplot(data=df, x='Holiday', y='Sales', palette='Set2')\n",
        "plt.title('Sales Distribution Based on Holiday')\n",
        "plt.xlabel('Holiday (1=Yes, 0=No)')\n",
        "plt.ylabel('Sales')\n",
        "plt.show()"
      ],
      "metadata": {
        "colab": {
          "base_uri": "https://localhost:8080/",
          "height": 608
        },
        "id": "1MGKklLugZvV",
        "outputId": "4d0e0d69-f4f4-476f-de7c-14891b2c1bfa"
      },
      "execution_count": 12,
      "outputs": [
        {
          "output_type": "stream",
          "name": "stderr",
          "text": [
            "<ipython-input-12-626627e0ef26>:3: FutureWarning:\n",
            "\n",
            "\n",
            "\n",
            "Passing `palette` without assigning `hue` is deprecated and will be removed in v0.14.0. Assign the `x` variable to `hue` and set `legend=False` for the same effect.\n",
            "\n",
            "\n"
          ]
        },
        {
          "output_type": "display_data",
          "data": {
            "text/plain": [
              "<Figure size 600x500 with 1 Axes>"
            ],
            "image/png": "[encoded data removed]"
          },
          "metadata": {}
        }
      ]
    },
    {
      "cell_type": "code",
      "source": [
        "# T-Test\n",
        "# Null hypothesis (H0): Holidays does not impact sales\n",
        "# Alternative hypothesis (H1): Holidays impacts sales\n",
        "holiday_yes = df[df['Holiday'] == 1]['Sales']\n",
        "holiday_no = df[df['Holiday'] == 0]['Sales']\n",
        "t_stat, p_value = stats.ttest_ind(holiday_yes, holiday_no)\n",
        "print(\"\\nT-Test Results:\")\n",
        "print(f\"T-statistic: {t_stat:.3f}\")\n",
        "print(f\"P-value: {p_value:.3f}\")\n",
        "\n",
        "# Interpretation\n",
        "if p_value < 0.05:\n",
        "    print(\"Reject the null hypothesis:Holidays impacts sales\")\n",
        "else:\n",
        "    print(\"Fail to reject the null hypothesis: Holidays does not impact sales\")\n"
      ],
      "metadata": {
        "colab": {
          "base_uri": "https://localhost:8080/"
        },
        "id": "4MU6jNq_Ys-b",
        "outputId": "9d52e30a-db5c-4cde-88c2-768859233971"
      },
      "execution_count": 13,
      "outputs": [
        {
          "output_type": "stream",
          "name": "stdout",
          "text": [
            "\n",
            "T-Test Results:\n",
            "T-statistic: -67.990\n",
            "P-value: 0.000\n",
            "Reject the null hypothesis:Holidays impacts sales\n"
          ]
        }
      ]
    },
    {
      "cell_type": "markdown",
      "source": [
        ">###  ***Sales Differences Across Store Types***\n",
        "\n",
        "We can analyse if the sales happening across different store_types are different in order to do following\n",
        " - Replicate the same business statergies to increase sales\n",
        " - Collecting feedback from locality customers, what they are seeking for\n",
        " - Getting to know the demand\n",
        " - Implementing new advertisement stategies for improving sales\n",
        "\n",
        "**Why ANOVA?**\n",
        "\n",
        "Since we have more than two groups anova helps us to do comparison easily as it is a well-established, efficient, and widely-used method in statistics.\n",
        "\n",
        "####**Assumptions of the ANOVA:**\n",
        "\n",
        "- ###### ***Independence :***\n",
        " Sales from each store type should be independent of each other\n",
        "\n",
        "- ###### ***Normality:***\n",
        "The sales data for each store type should follow a normal distribution.\n",
        "\n",
        "- ###### ***Equal variance:***\n",
        "Group variances are similar\n",
        "\n",
        "- ###### ***Homogeneity of Variances:***\n",
        "The variance in sales should be roughly equal across the store types\n",
        "Since Levene's test is flexible & robust to Non-Normality, it is used in analysing homoscedasticity.\n",
        "\n",
        "       Null Hypothesis (H₀):  There is no significant difference in sales across store types.\n",
        "\n",
        "       Alternative Hypothesis (H₁): There is a statistically significant difference in sales across store types.\n"
      ],
      "metadata": {
        "id": "J-EujNHJYsse"
      }
    },
    {
      "cell_type": "code",
      "source": [
        "# Descriptive Statistics of Sales based on Store Type\n",
        "sales_store_type_group = df.groupby('Store_Type')['Sales'].describe()\n",
        "print(\"Descriptive Statistics of Sales Based on Store Type:\")\n",
        "print(sales_store_type_group)\n"
      ],
      "metadata": {
        "colab": {
          "base_uri": "https://localhost:8080/"
        },
        "id": "AzbEvhJFhS5I",
        "outputId": "701be5a5-1f8e-4646-9026-11b122ceed6e"
      },
      "execution_count": 14,
      "outputs": [
        {
          "output_type": "stream",
          "name": "stdout",
          "text": [
            "Descriptive Statistics of Sales Based on Store Type:\n",
            "              count          mean           std      min      25%      50%  \\\n",
            "Store_Type                                                                   \n",
            "S1          88752.0  37676.511694  12303.151090     0.00  29859.0  36444.0   \n",
            "S2          28896.0  27530.828222   9168.839395  1748.28  21666.0  26794.5   \n",
            "S3          24768.0  47063.068209  14907.465521     0.00  37656.0  45445.5   \n",
            "S4          45924.0  59945.685926  20750.228035     0.00  46503.0  57075.0   \n",
            "\n",
            "                 75%       max  \n",
            "Store_Type                      \n",
            "S1          44439.00  143841.0  \n",
            "S2          32703.90   96363.0  \n",
            "S3          55062.75  166323.0  \n",
            "S4          70326.75  247215.0  \n"
          ]
        }
      ]
    },
    {
      "cell_type": "code",
      "source": [
        "# Sales Distribution Based on Store Type\n",
        "plt.figure(figsize=(5, 4))\n",
        "sns.boxplot(data=df, x='Store_Type', y='Sales', palette='Set3')\n",
        "plt.title('Sales Distribution Based on Store Type')\n",
        "plt.xlabel('Store Type')\n",
        "plt.ylabel('Sales')\n",
        "plt.show()"
      ],
      "metadata": {
        "colab": {
          "base_uri": "https://localhost:8080/",
          "height": 531
        },
        "id": "d8zWMBz4hYTP",
        "outputId": "19dfafc8-33c7-4d44-b196-2f37d0067bd1"
      },
      "execution_count": 15,
      "outputs": [
        {
          "output_type": "stream",
          "name": "stderr",
          "text": [
            "<ipython-input-15-e4e7064e4011>:3: FutureWarning:\n",
            "\n",
            "\n",
            "\n",
            "Passing `palette` without assigning `hue` is deprecated and will be removed in v0.14.0. Assign the `x` variable to `hue` and set `legend=False` for the same effect.\n",
            "\n",
            "\n"
          ]
        },
        {
          "output_type": "display_data",
          "data": {
            "text/plain": [
              "<Figure size 500x400 with 1 Axes>"
            ],
            "image/png": "[encoded data removed]"
          },
          "metadata": {}
        }
      ]
    },
    {
      "cell_type": "code",
      "source": [
        "# Levene's test\n",
        "s1 = df[df['Store_Type'] == 'S1']['Sales']\n",
        "s2 = df[df['Store_Type'] == 'S2']['Sales']\n",
        "s3 = df[df['Store_Type'] == 'S3']['Sales']\n",
        "s4 = df[df['Store_Type'] == 'S4']['Sales']\n",
        "stat, p_value = levene(s1, s2, s3, s4)\n",
        "print(f\"Levene's Statistic: {stat}\")\n",
        "print(f\"p-value: {p_value}\")\n",
        "\n",
        "if p_value < 0.05:\n",
        "    print(\"Variances are heterogeneous\")\n",
        "else:\n",
        "    print(\"Variances are homogeneous\")"
      ],
      "metadata": {
        "colab": {
          "base_uri": "https://localhost:8080/"
        },
        "id": "IziyNEkHwN5-",
        "outputId": "e2ab417f-14d2-4fad-9abd-ef4437627617"
      },
      "execution_count": 16,
      "outputs": [
        {
          "output_type": "stream",
          "name": "stdout",
          "text": [
            "Levene's Statistic: 5206.219646908859\n",
            "p-value: 0.0\n",
            "Variances are heterogeneous\n"
          ]
        }
      ]
    },
    {
      "cell_type": "code",
      "source": [
        "# ANOVA\n",
        "# Null hypothesis (H0): There is no significant difference in sales between different store types.\n",
        "# Alternative hypothesis (H1): There is a significant difference in sales between store types.\n",
        "store_types = df['Store_Type'].unique()\n",
        "sales_by_store_type = [df[df['Store_Type'] == store_type]['Sales'] for store_type in store_types]\n",
        "f_stat, p_value = stats.f_oneway(*sales_by_store_type)\n",
        "print(\"\\nANOVA Results:\")\n",
        "print(f\"F-statistic: {f_stat:.3f}\")\n",
        "print(f\"P-value: {p_value:.3f}\")\n",
        "if p_value < 0.05:\n",
        "    print(\"\\nThere is a statistically significant difference in Sales across Store Types.\")\n",
        "else:\n",
        "    print(\"\\nThere is no statistically significant difference in Sales across Store Types.\")"
      ],
      "metadata": {
        "colab": {
          "base_uri": "https://localhost:8080/"
        },
        "id": "KYmMAITBZCVK",
        "outputId": "65023511-8130-417c-d99e-4e7720cf92e3"
      },
      "execution_count": 17,
      "outputs": [
        {
          "output_type": "stream",
          "name": "stdout",
          "text": [
            "\n",
            "ANOVA Results:\n",
            "F-statistic: 35123.644\n",
            "P-value: 0.000\n",
            "\n",
            "There is a statistically significant difference in Sales across Store Types.\n"
          ]
        }
      ]
    },
    {
      "cell_type": "markdown",
      "source": [
        ">####  ***Regional Sales Variability***\n",
        "\n",
        "We can analyse if the sales happening across different store_types are different in order to do following\n",
        " - Getting to know the factors affecting sales\n",
        " - Understanding the distribution of population across region\n",
        " - Factors affecting sales\n",
        " - Interest of people\n",
        " - Identifying Advertisement stategies\n",
        " - Identifying demand\n",
        "\n",
        "**Why ANOVA?**\n",
        "\n",
        "Since we have more than two groups anova helps us to do comparison easily as it is a well-established, efficient, and widely-used method in statistics.\n",
        "\n",
        "**Assumptions of the ANOVA:**\n",
        "\n",
        "- ###### ***Independence :***\n",
        " Sales from each Region should be independent of each other\n",
        "\n",
        "- ###### ***Normality:***\n",
        "The sales data for each Region should follow a normal distribution.\n",
        "\n",
        "- ###### ***Equal variance:***\n",
        "Group variances are similar\n",
        "\n",
        "- ###### ***Homogeneity of Variances:***\n",
        "The variance in sales should be roughly equal across the Regions.\n",
        "Since Levene's test is flexible & robust to Non-Normality, it is used in analysing homoscedasticity.\n",
        "\n",
        "       Null Hypothesis (H₀):  There is no significant difference in sales across Regions.\n",
        "\n",
        "       Alternative Hypothesis (H₁): There is a statistically significant difference in sales across Regions.\n",
        "\n"
      ],
      "metadata": {
        "id": "kdtFVq0wZIh5"
      }
    },
    {
      "cell_type": "code",
      "source": [
        "# Descriptive Statistics of Sales based on Region_Code\n",
        "sales_region_group = df.groupby('Region_Code')['Sales'].describe()\n",
        "print(\"Descriptive Statistics of Sales Based on Region_Code:\")\n",
        "print(sales_region_group)"
      ],
      "metadata": {
        "colab": {
          "base_uri": "https://localhost:8080/"
        },
        "id": "rzMrBFn9prvC",
        "outputId": "8a17e713-c299-47de-c772-46d0b0f47828"
      },
      "execution_count": 18,
      "outputs": [
        {
          "output_type": "stream",
          "name": "stdout",
          "text": [
            "Descriptive Statistics of Sales Based on Region_Code:\n",
            "               count          mean           std     min       25%      50%  \\\n",
            "Region_Code                                                                   \n",
            "R1           63984.0  46765.488405  21286.095441     0.0  32091.00  43125.0   \n",
            "R2           54180.0  40054.847344  16468.619529     0.0  29078.25  37548.0   \n",
            "R3           44376.0  42144.517063  16615.730308     0.0  30876.00  39661.5   \n",
            "R4           25800.0  39743.434249  15930.494396  2009.7  29195.64  37474.5   \n",
            "\n",
            "                  75%       max  \n",
            "Region_Code                      \n",
            "R1           57624.00  247215.0  \n",
            "R2           48357.00  192156.0  \n",
            "R3           50970.75  227127.0  \n",
            "R4           47796.00  161271.0  \n"
          ]
        }
      ]
    },
    {
      "cell_type": "code",
      "source": [
        "# Sales Distribution based on Region_Code\n",
        "plt.figure(figsize=(4, 5))\n",
        "sns.boxplot(data=df, x='Region_Code', y='Sales', palette='Set3')\n",
        "plt.title('Sales Distribution Based on Region Code')\n",
        "plt.xlabel('Region Code')\n",
        "plt.ylabel('Sales')\n",
        "plt.show()"
      ],
      "metadata": {
        "colab": {
          "base_uri": "https://localhost:8080/",
          "height": 608
        },
        "id": "Yx0HBLJlpyOW",
        "outputId": "fe7b360e-3770-47b3-e1af-8447f1e0b7c1"
      },
      "execution_count": 19,
      "outputs": [
        {
          "output_type": "stream",
          "name": "stderr",
          "text": [
            "<ipython-input-19-833ffbfb8f8d>:3: FutureWarning:\n",
            "\n",
            "\n",
            "\n",
            "Passing `palette` without assigning `hue` is deprecated and will be removed in v0.14.0. Assign the `x` variable to `hue` and set `legend=False` for the same effect.\n",
            "\n",
            "\n"
          ]
        },
        {
          "output_type": "display_data",
          "data": {
            "text/plain": [
              "<Figure size 400x500 with 1 Axes>"
            ],
            "image/png": "[encoded data removed]"
          },
          "metadata": {}
        }
      ]
    },
    {
      "cell_type": "code",
      "source": [
        "# Levene's test\n",
        "R1 = df[df['Region_Code'] == 'R1']['Sales']\n",
        "R2 = df[df['Region_Code'] == 'R2']['Sales']\n",
        "R3 = df[df['Region_Code'] == 'R3']['Sales']\n",
        "R4 = df[df['Region_Code'] == 'R4']['Sales']\n",
        "stat, p_value = levene(R1, R2, R3, R4)\n",
        "print(f\"Levene's Statistic: {stat}\")\n",
        "print(f\"p-value: {p_value}\")\n",
        "\n",
        "if p_value < 0.05:\n",
        "    print(\"Variances are heterogeneous\")\n",
        "else:\n",
        "    print(\"Variances are homogeneous\")"
      ],
      "metadata": {
        "colab": {
          "base_uri": "https://localhost:8080/"
        },
        "id": "5aJzGGN_wiK7",
        "outputId": "8dd6115e-bd4c-46e2-ef3f-a1f2b35b3e3b"
      },
      "execution_count": 20,
      "outputs": [
        {
          "output_type": "stream",
          "name": "stdout",
          "text": [
            "Levene's Statistic: 1235.2684068578194\n",
            "p-value: 0.0\n",
            "Variances are heterogeneous\n"
          ]
        }
      ]
    },
    {
      "cell_type": "code",
      "source": [
        "# ANOVA\n",
        "# Null hypothesis (H0): There is no significant difference in sales between different regions.\n",
        "# Alternative hypothesis (H1): There is a significant difference in sales between regions.\n",
        "regions = df['Region_Code'].unique()\n",
        "sales_by_region = [df[df['Region_Code'] == region]['Sales'] for region in regions]\n",
        "f_stat, p_value = stats.f_oneway(*sales_by_region)\n",
        "print(\"\\nANOVA Results:\")\n",
        "print(f\"F-statistic: {f_stat:.3f}\")\n",
        "print(f\"P-value: {p_value:.3f}\")\n",
        "\n",
        "# Interpretation\n",
        "if p_value < 0.05:\n",
        "    print(\"\\nThere is a statistically significant difference in Sales across Region Codes.\")\n",
        "else:\n",
        "    print(\"\\nThere is no statistically significant difference in Sales across Region Codes.\")\n"
      ],
      "metadata": {
        "colab": {
          "base_uri": "https://localhost:8080/"
        },
        "id": "ukR7O0QVZb1S",
        "outputId": "61094bb2-619f-4dd4-bcba-68d7562fcdf2"
      },
      "execution_count": 21,
      "outputs": [
        {
          "output_type": "stream",
          "name": "stdout",
          "text": [
            "\n",
            "ANOVA Results:\n",
            "F-statistic: 1682.426\n",
            "P-value: 0.000\n",
            "\n",
            "There is a statistically significant difference in Sales across Region Codes.\n"
          ]
        }
      ]
    },
    {
      "cell_type": "markdown",
      "source": [
        ">###  ***Correlation between Number of Orders and Sales***\n",
        "\n",
        "As it helps in identifying the relationship between two factors, Sales & Order in our case.\n",
        "It helps in below factor,\n",
        " - Getting to know the relationship\n",
        " - Helps improvising marketing\n",
        " - Helps implementing promotional efforts\n",
        " - Helps us focusing on increasing the order volume\n",
        " - Helps to forecast sales based on expected orders\n",
        "\n",
        "From below we can see the positive correlation between sales & orders, which means if Order increases sales also increases."
      ],
      "metadata": {
        "id": "yyQwdtDuZj1q"
      }
    },
    {
      "cell_type": "code",
      "source": [
        "# Pearson correlation coefficient\n",
        "correlation = df['#Order'].corr(df['Sales'])\n",
        "print(f\"Pearson Correlation between #Order and Sales: {correlation:.3f}\")\n",
        "\n",
        "# Interpretation\n",
        "if correlation > 0:\n",
        "    print(\"There is a positive correlation between the number of orders and sales.\")\n",
        "elif correlation < 0:\n",
        "    print(\"There is a negative correlation between the number of orders and sales.\")\n",
        "else:\n",
        "    print(\"There is no correlation between the number of orders and sales.\")\n"
      ],
      "metadata": {
        "colab": {
          "base_uri": "https://localhost:8080/"
        },
        "id": "YcHZS72RsrXF",
        "outputId": "5a20ec15-15d2-4002-eb45-1c245f5dd770"
      },
      "execution_count": 22,
      "outputs": [
        {
          "output_type": "stream",
          "name": "stdout",
          "text": [
            "Pearson Correlation between #Order and Sales: 0.942\n",
            "There is a positive correlation between the number of orders and sales.\n"
          ]
        }
      ]
    },
    {
      "cell_type": "code",
      "source": [
        "# #Order vs Sales\n",
        "plt.figure(figsize=(5, 4))\n",
        "sns.scatterplot(data=df, x='#Order', y='Sales', color='blue')\n",
        "plt.title('#Order vs Sales')\n",
        "plt.xlabel('Number of Orders')\n",
        "plt.ylabel('Sales')\n",
        "plt.show()"
      ],
      "metadata": {
        "colab": {
          "base_uri": "https://localhost:8080/",
          "height": 410
        },
        "id": "JAvCaHeystoU",
        "outputId": "3a5869d8-c5bc-4cbf-efbc-d55411209ba6"
      },
      "execution_count": 23,
      "outputs": [
        {
          "output_type": "display_data",
          "data": {
            "text/plain": [
              "<Figure size 500x400 with 1 Axes>"
            ],
            "image/png": "[encoded data removed]"
          },
          "metadata": {}
        }
      ]
    },
    {
      "cell_type": "code",
      "source": [],
      "metadata": {
        "id": "Y39Bc4dBZ2Ip"
      },
      "execution_count": 23,
      "outputs": []
    }
  ]
}